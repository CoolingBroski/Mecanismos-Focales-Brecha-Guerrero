{
 "cells": [
  {
   "cell_type": "markdown",
   "metadata": {},
   "source": [
    "Esta libreta preprocesa automáticamente los datos que ya se encuentran en el directorio recortado en base a los eventos listados en el catálogo."
   ]
  },
  {
   "cell_type": "code",
   "execution_count": 1,
   "metadata": {},
   "outputs": [],
   "source": [
    "from pathlib import Path, PurePath\n",
    "import pandas as pd\n",
    "import numpy as np\n",
    "import matplotlib.pyplot as plt\n",
    "import os\n",
    "import glob\n",
    "import shutil\n",
    "import obspy\n",
    "from obspy.geodetics.base import gps2dist_azimuth\n",
    "from obspy.core.util.attribdict import AttribDict\n",
    "from preprocessing_tools import *"
   ]
  },
  {
   "cell_type": "code",
   "execution_count": 2,
   "metadata": {},
   "outputs": [],
   "source": [
    "directorio_recortado = 'Datos_Trim/'"
   ]
  },
  {
   "cell_type": "code",
   "execution_count": 3,
   "metadata": {},
   "outputs": [],
   "source": [
    "catalog = 'catalogSSN.dat'"
   ]
  },
  {
   "cell_type": "code",
   "execution_count": 4,
   "metadata": {},
   "outputs": [],
   "source": [
    "df_catalog = read_catalog(catalog)"
   ]
  },
  {
   "cell_type": "code",
   "execution_count": 5,
   "metadata": {},
   "outputs": [],
   "source": [
    "#stations_meta = pd.read_csv('station.csv')"
   ]
  },
  {
   "cell_type": "code",
   "execution_count": 17,
   "metadata": {},
   "outputs": [],
   "source": [
    "remove_response = True\n",
    "\n",
    "# archivo de configuracion con variables\n",
    "invs = {}\n",
    "directorio = 'Respuesta_Instrumento/'\n",
    "if remove_response:\n",
    "    net='IG'\n",
    "    for i, row in df_catalog.iterrows():\n",
    "        #path = Path(directorio_recortado+row.date_time_id)\n",
    "        path = directorio_recortado+row.date_time_id+'/'\n",
    "        \n",
    "        stations_meta = get_meta_data(path)\n",
    "        #print(stations_meta)\n",
    "        date = obspy.UTCDateTime(*list(map(int, row.date_time_id.split('.')[:3])))\n",
    "        invs[datetime_to_dotformat(date)] = {}\n",
    "        for sta in stations_meta['kstnm'].unique():\n",
    "            for file in os.listdir(directorio):\n",
    "                #print(file)\n",
    "                #print(file.split('_')[2][:4])\n",
    "                before = file.split('_')[2]\n",
    "                after = file.split('_')[3].split('.')[0]\n",
    "                \n",
    "                date_before=obspy.UTCDateTime(int(before[:4]), int(before[4:6]), int(before[6:8]))\n",
    "                date_after=obspy.UTCDateTime(int(after[:4]), int(after[4:6]), int(after[6:8]))\n",
    "                if re.match('%s_%s_\\d+_\\d+.*\\.RESP'%(sta, net), file) and date_before < date and date_after > date: # Para que solo lea las respuestas de instrumentos actuales\n",
    "                    with open(directorio+file) as f:\n",
    "                        #print(file)\n",
    "                        invs[datetime_to_dotformat(date)][sta] = obspy.read_inventory(f, format='RESP')\n",
    "\n",
    "# Se dan ciertos errores al usar este objeto\n",
    "#inventory = obspy.core.inventory.Inventory(sum([inv.networks for inv in list(invs.values())], [])) # Concatena todos los inventarios para unificarlos en uno solo"
   ]
  },
  {
   "cell_type": "code",
   "execution_count": 18,
   "metadata": {},
   "outputs": [
    {
     "data": {
      "text/plain": [
       "dict_keys(['2018.08.12.00.00.00', '2016.07.19.00.00.00', '2016.06.27.00.00.00', '2021.09.08.00.00.00', '2021.03.20.00.00.00', '2018.03.30.00.00.00', '2019.09.30.00.00.00'])"
      ]
     },
     "execution_count": 18,
     "metadata": {},
     "output_type": "execute_result"
    }
   ],
   "source": [
    "invs.keys()"
   ]
  },
  {
   "cell_type": "code",
   "execution_count": 21,
   "metadata": {},
   "outputs": [
    {
     "data": {
      "text/plain": [
       "Inventory created at 2022-05-26T00:51:21.263527Z\n",
       "\tCreated by: ObsPy 1.2.2\n",
       "\t\t    https://www.obspy.org\n",
       "\tSending institution: ObsPy's obspy.io.xseed version 1.2.2\n",
       "\tContains:\n",
       "\t\tNetworks (1):\n",
       "\t\t\tIG\n",
       "\t\tStations (9):\n",
       "\t\t\tIG.IGIG () (9x)\n",
       "\t\tChannels (9):\n",
       "\t\t\tIG.IGIG..BHZ, IG.IGIG..BHN, IG.IGIG..BHE, IG.IGIG..HHZ, \n",
       "\t\t\tIG.IGIG..HHN, IG.IGIG..HHE, IG.IGIG..HLZ, IG.IGIG..HLN, \n",
       "\t\t\tIG.IGIG..HLE"
      ]
     },
     "execution_count": 21,
     "metadata": {},
     "output_type": "execute_result"
    }
   ],
   "source": [
    "invs['2021.03.20.00.00.00']['IGIG']"
   ]
  },
  {
   "cell_type": "code",
   "execution_count": 22,
   "metadata": {},
   "outputs": [
    {
     "name": "stderr",
     "output_type": "stream",
     "text": [
      " WARNING: FIR normalized: sum[coef]=9.781101E-01;     \n",
      " WARNING: FIR normalized: sum[coef]=9.781101E-01;     \n",
      " WARNING: FIR normalized: sum[coef]=9.781101E-01;     \n",
      " WARNING: FIR normalized: sum[coef]=9.781101E-01;     \n",
      " WARNING: FIR normalized: sum[coef]=9.781101E-01;     \n",
      " WARNING: FIR normalized: sum[coef]=9.781101E-01;     \n",
      " WARNING: FIR normalized: sum[coef]=9.781101E-01;     \n",
      " WARNING: FIR normalized: sum[coef]=9.781101E-01;     \n",
      " WARNING: FIR normalized: sum[coef]=9.781101E-01;     \n"
     ]
    }
   ],
   "source": [
    "rotate_zne = False\n",
    "\n",
    "pre_filt = [0.004, 0.007, 10, 20]\n",
    "distances = []\n",
    "azimuths = []\n",
    "b_azimuths = []\n",
    "\n",
    "for index, row in df_catalog.iterrows(): # Para todo evento\n",
    "    event_dir = directorio_recortado + datetime_to_dotformat(row.date_time)+'/'\n",
    "    outdir = \"%sRT\"%event_dir # Output directory\n",
    "    date= row.date_time_id[:10]+'.00.00.00'\n",
    "    st = obspy.read(event_dir+'*', format='SAC')\n",
    "    #print(st)\n",
    "    \n",
    "    Path(outdir).mkdir(parents=True,exist_ok=True)\n",
    "    \n",
    "    # Remover tendencias de los datos (ej. desfasamientos para alinearse verticalmente con 0 la senal)\n",
    "    # En el caso de la red submarina no es necesario el paso de quitar la respuesta del instrumento\n",
    "    st.detrend(type=\"linear\")\n",
    "    if remove_response:\n",
    "        for i in range(len(st)):\n",
    "            st[i].remove_response(inventory=invs[date][st[i].stats.sac.kstnm], pre_filt=pre_filt, output=\"DISP\", zero_mean=True, plot=False)\n",
    "    st.detrend(type=\"linear\")\n",
    "    st.detrend(type=\"demean\")\n",
    "\n",
    "    # Define SAC headers and calculate back-azimtuh for rotation\n",
    "    origin_time = row.date_time\n",
    "    depth = row.depth*1000\n",
    "\n",
    "    #o = []\n",
    "    #b = []\n",
    "    stations_meta = get_meta_data(event_dir)\n",
    "    ev_st_df = link_ev_st(directorio_recortado)\n",
    "    #print(ev_st_df)\n",
    "    ev_st_df['distance'] = np.nan\n",
    "    ev_st_df['azimuth'] = np.nan\n",
    "    ev_st_df['b_azimuth'] = np.nan\n",
    "\n",
    "    for i, sta in stations_meta.iterrows(): # Para todo evento y para toda estacion\n",
    "        # Se asume que el orden de st es el mismo que el de stations_meta en cuanto a estaciones/canales\n",
    "        \n",
    "        #meta = inv.get_channel_metadata(tr.id)\n",
    "        dist, az, baz = gps2dist_azimuth(row.lat,row.lon,sta.stla,sta.stlo) # dist en metros\n",
    "        #omarker = origin_time - tr.starttime\n",
    "        omarker = 0\n",
    "        # Por como son partidos los datos de cada estacion iniciando exactamente en el mismo tiempo que aquel registrado para el evento dentro del catalogo\n",
    "        # origin_time y starttime son iguales\n",
    "        \n",
    "        # baz (back azimuth) es aquel angulo de la estacion con las coordenadas del sismo o evento, asi que lo tendremos que guardar en el trace \n",
    "\n",
    "        # Obspy trace headers\n",
    "        #tr.stats.coordinates = {'latitude':meta['latitude'], 'longitude':meta['longitude']}\n",
    "        \n",
    "        q = f\"(date_time_id == '{row.date_time_id}') & (st == '{sta.kstnm}')\"\n",
    "        ix = ev_st_df.query(q).index\n",
    "        cols = ev_st_df.columns\n",
    "        \n",
    "        ev_st_df.iloc[ix, cols.get_loc('distance')] = dist/1000 # A kilometros\n",
    "        ev_st_df.iloc[ix, cols.get_loc('azimuth')] = az\n",
    "        ev_st_df.iloc[ix, cols.get_loc('b_azimuth')] = baz\n",
    "        \n",
    "        #o.append(0)\n",
    "        #b.append(-1*omarker)\n",
    "        \n",
    "        #print(sta.kstnm, st[i].stats.sac.kstnm)\n",
    "        # Hay que guardar otros atributos como starttime y endtime porque al guardar se borran los datos anteriores\n",
    "        st[i].stats.back_azimuth = baz\n",
    "        st[i].stats.distance = dist # En metros\n",
    "        #st[i].stats.starttime = row.date_time\n",
    "        #st[i].stats.endtime = row\n",
    "        \n",
    "        # Solo los datos guardados sobre el atributo sac quedaran grabados en el archivo SAC\n",
    "        #st[i].stats.sac.az = az\n",
    "        sacd = AttribDict()\n",
    "        sacd.stla = sta.stla\n",
    "        sacd.stlo = sta.stlo\n",
    "        sacd.stel = sta.stel\n",
    "        sacd.evla = row.lat\n",
    "        sacd.evlo = row.lon\n",
    "        sacd.evdp = depth # in meters\n",
    "        sacd.az = az\n",
    "        sacd.baz = baz\n",
    "        sacd.dist = dist/1000 # A kilometros\n",
    "        sacd.o = 0\n",
    "        sacd.b = -1*omarker\n",
    "        st[i].stats.sac = sacd\n",
    "        \n",
    "        #distances.append(dist)\n",
    "        #azimuths.append(az)\n",
    "        #b_azimuths.append(baz)\n",
    "        \n",
    "    #for sta in stations_meta['kstnm'].unique():\n",
    "    #    traces = st.select(station=sta)\n",
    "    #    traces.rotate(method=\"NE->RT\")\n",
    "    \n",
    "    # No es necesario rotar a ZNE en el caso de los datos de la red submarina ya que los tres componentes o canales ya vienen orientados en norte, este y la vertical\n",
    "    if rotate_zne:\n",
    "        # Los canales del SSN ya estan orientados en ZNE\n",
    "        # Forzosamente se requiere proporcionar un Stream con los tres canales en conjunto a rotar, a diferencia de remove_response\n",
    "        st_sta = obspy.Stream()\n",
    "        rotated_sts = []\n",
    "        for i, sta in stations_meta.iterrows():\n",
    "            if i%3 == 0:\n",
    "                if i != 0:\n",
    "                    #print(st_sta)\n",
    "                    #print(invs[sta.kstnm])\n",
    "                    st_sta._rotate_to_zne(invs[sta.kstnm],components=(\"ZNE\",\"Z12\"))\n",
    "                    rotated_sts.append(st_sta)\n",
    "                st_sta = obspy.Stream()\n",
    "            st_sta.append(st[i])\n",
    "        st = obspy.Stream(sum(rotated_sts, [])) # Unificar en un solo stream y sustituir\n",
    "    \n",
    "    # Todas las estaciones submarinas ya vienen con tres componentes, asi que tampoco es necesario verificarlo\n",
    "    # Se rota a RT para trabajar mas facilmente la distancia y el angulo con cada sismo\n",
    "    st.rotate(method=\"NE->RT\")\n",
    "    \n",
    "    for tr in st:\n",
    "        tr.write(\"%s/%s\"%(outdir,tr.id),format=\"SAC\")\n",
    "    \n",
    "    #ev_st_df['distance'] = distances\n",
    "    #ev_st_df['azimuth'] = azimuths\n",
    "    #ev_st_df['b_azimuth'] = b_azimuths\n",
    "\n",
    "    ev_st_df.to_csv('ev_st_%s.csv'%(row.date_time_id))\n",
    "\n",
    "#tr_df['o'] = o\n",
    "#tr_df['b'] = b"
   ]
  },
  {
   "cell_type": "code",
   "execution_count": 23,
   "metadata": {},
   "outputs": [],
   "source": [
    "#max_dist = 300\n",
    "#min_dist = 50\n",
    "for i, row in df_catalog.iterrows():\n",
    "    evid = row.date_time_id\n",
    "    evdir = directorio_recortado + evid + '/'\n",
    "    ev_st_df = pd.read_csv('ev_st_%s.csv'%(evid))\n",
    "    \n",
    "    if row.mag < 4.0:\n",
    "        min_dist = 30\n",
    "        max_dist = 300\n",
    "    elif 4.0 <= row.mag < 5.0:\n",
    "        min_dist = 30\n",
    "        max_dist = 450\n",
    "    elif 5.0 <= row.mag < 6.5:\n",
    "        min_dist = 100\n",
    "        max_dist = 600\n",
    "    elif 6.5 <= row.mag < 7.5:\n",
    "        min_dist = 400\n",
    "        max_dist = 995\n",
    "    elif 7.5 <= row.mag:\n",
    "        min_dist = 500\n",
    "        max_dist = 1500\n",
    "    \n",
    "    remove_df = ev_st_df.loc[(ev_st_df['distance'] <= min_dist) | (ev_st_df['distance'] >= max_dist)]\n",
    "    \n",
    "    remove_st = remove_df['st'].unique()\n",
    "    \n",
    "    for st in remove_st:\n",
    "        st_files = glob.glob(evdir+'**/*%s*'%(st), recursive=True)\n",
    "        for st_file in st_files:\n",
    "            os.remove(st_file)\n",
    "            \n",
    "    ev_st_df.drop(remove_df.index, inplace=True)\n",
    "    ev_st_df.to_csv('ev_st_%s.csv'%(evid))"
   ]
  },
  {
   "cell_type": "code",
   "execution_count": 24,
   "metadata": {},
   "outputs": [
    {
     "data": {
      "text/html": [
       "<div>\n",
       "<style scoped>\n",
       "    .dataframe tbody tr th:only-of-type {\n",
       "        vertical-align: middle;\n",
       "    }\n",
       "\n",
       "    .dataframe tbody tr th {\n",
       "        vertical-align: top;\n",
       "    }\n",
       "\n",
       "    .dataframe thead th {\n",
       "        text-align: right;\n",
       "    }\n",
       "</style>\n",
       "<table border=\"1\" class=\"dataframe\">\n",
       "  <thead>\n",
       "    <tr style=\"text-align: right;\">\n",
       "      <th></th>\n",
       "      <th>Unnamed: 0</th>\n",
       "      <th>starttime</th>\n",
       "      <th>endtime</th>\n",
       "      <th>sampling_rate</th>\n",
       "      <th>st</th>\n",
       "      <th>ch</th>\n",
       "      <th>date_time_id</th>\n",
       "      <th>distance</th>\n",
       "      <th>azimuth</th>\n",
       "      <th>b_azimuth</th>\n",
       "    </tr>\n",
       "  </thead>\n",
       "  <tbody>\n",
       "    <tr>\n",
       "      <th>60</th>\n",
       "      <td>60</td>\n",
       "      <td>2021-09-08T01:47:43.000000Z</td>\n",
       "      <td>2021-09-08T01:53:53.000000Z</td>\n",
       "      <td>100.0</td>\n",
       "      <td>PNIG</td>\n",
       "      <td>HHN</td>\n",
       "      <td>2021.09.08.01.47.53</td>\n",
       "      <td>NaN</td>\n",
       "      <td>NaN</td>\n",
       "      <td>NaN</td>\n",
       "    </tr>\n",
       "    <tr>\n",
       "      <th>88</th>\n",
       "      <td>88</td>\n",
       "      <td>2021-09-08T01:47:43.000000Z</td>\n",
       "      <td>2021-09-08T01:53:53.000000Z</td>\n",
       "      <td>100.0</td>\n",
       "      <td>PNIG</td>\n",
       "      <td>HHE</td>\n",
       "      <td>2021.09.08.01.47.53</td>\n",
       "      <td>NaN</td>\n",
       "      <td>NaN</td>\n",
       "      <td>NaN</td>\n",
       "    </tr>\n",
       "    <tr>\n",
       "      <th>89</th>\n",
       "      <td>89</td>\n",
       "      <td>2021-09-08T01:47:43.000000Z</td>\n",
       "      <td>2021-09-08T01:53:53.000000Z</td>\n",
       "      <td>100.0</td>\n",
       "      <td>PNIG</td>\n",
       "      <td>HHZ</td>\n",
       "      <td>2021.09.08.01.47.53</td>\n",
       "      <td>NaN</td>\n",
       "      <td>NaN</td>\n",
       "      <td>NaN</td>\n",
       "    </tr>\n",
       "    <tr>\n",
       "      <th>209</th>\n",
       "      <td>209</td>\n",
       "      <td>2021-03-20T03:06:25.000000Z</td>\n",
       "      <td>2021-03-20T03:12:35.000000Z</td>\n",
       "      <td>100.0</td>\n",
       "      <td>PNIG</td>\n",
       "      <td>HHN</td>\n",
       "      <td>2021.03.20.03.06.35</td>\n",
       "      <td>NaN</td>\n",
       "      <td>NaN</td>\n",
       "      <td>NaN</td>\n",
       "    </tr>\n",
       "    <tr>\n",
       "      <th>238</th>\n",
       "      <td>238</td>\n",
       "      <td>2021-03-20T03:06:25.000000Z</td>\n",
       "      <td>2021-03-20T03:12:35.000000Z</td>\n",
       "      <td>100.0</td>\n",
       "      <td>PNIG</td>\n",
       "      <td>HHE</td>\n",
       "      <td>2021.03.20.03.06.35</td>\n",
       "      <td>NaN</td>\n",
       "      <td>NaN</td>\n",
       "      <td>NaN</td>\n",
       "    </tr>\n",
       "    <tr>\n",
       "      <th>239</th>\n",
       "      <td>239</td>\n",
       "      <td>2021-03-20T03:06:25.000000Z</td>\n",
       "      <td>2021-03-20T03:12:35.000000Z</td>\n",
       "      <td>100.0</td>\n",
       "      <td>PNIG</td>\n",
       "      <td>HHZ</td>\n",
       "      <td>2021.03.20.03.06.35</td>\n",
       "      <td>NaN</td>\n",
       "      <td>NaN</td>\n",
       "      <td>NaN</td>\n",
       "    </tr>\n",
       "    <tr>\n",
       "      <th>354</th>\n",
       "      <td>354</td>\n",
       "      <td>2016-07-19T13:42:36.000000Z</td>\n",
       "      <td>2016-07-19T13:48:46.000000Z</td>\n",
       "      <td>100.0</td>\n",
       "      <td>PNIG</td>\n",
       "      <td>HHN</td>\n",
       "      <td>2016.07.19.13.42.46</td>\n",
       "      <td>NaN</td>\n",
       "      <td>NaN</td>\n",
       "      <td>NaN</td>\n",
       "    </tr>\n",
       "    <tr>\n",
       "      <th>388</th>\n",
       "      <td>388</td>\n",
       "      <td>2016-07-19T13:42:36.000000Z</td>\n",
       "      <td>2016-07-19T13:48:46.000000Z</td>\n",
       "      <td>100.0</td>\n",
       "      <td>PNIG</td>\n",
       "      <td>HHE</td>\n",
       "      <td>2016.07.19.13.42.46</td>\n",
       "      <td>NaN</td>\n",
       "      <td>NaN</td>\n",
       "      <td>NaN</td>\n",
       "    </tr>\n",
       "    <tr>\n",
       "      <th>389</th>\n",
       "      <td>389</td>\n",
       "      <td>2016-07-19T13:42:36.000000Z</td>\n",
       "      <td>2016-07-19T13:48:46.000000Z</td>\n",
       "      <td>100.0</td>\n",
       "      <td>PNIG</td>\n",
       "      <td>HHZ</td>\n",
       "      <td>2016.07.19.13.42.46</td>\n",
       "      <td>NaN</td>\n",
       "      <td>NaN</td>\n",
       "      <td>NaN</td>\n",
       "    </tr>\n",
       "    <tr>\n",
       "      <th>513</th>\n",
       "      <td>513</td>\n",
       "      <td>2018-03-30T15:07:51.000000Z</td>\n",
       "      <td>2018-03-30T15:14:01.000000Z</td>\n",
       "      <td>100.0</td>\n",
       "      <td>PNIG</td>\n",
       "      <td>HHN</td>\n",
       "      <td>2018.03.30.15.08.01</td>\n",
       "      <td>NaN</td>\n",
       "      <td>NaN</td>\n",
       "      <td>NaN</td>\n",
       "    </tr>\n",
       "    <tr>\n",
       "      <th>547</th>\n",
       "      <td>547</td>\n",
       "      <td>2018-03-30T15:07:51.000000Z</td>\n",
       "      <td>2018-03-30T15:14:01.000000Z</td>\n",
       "      <td>100.0</td>\n",
       "      <td>PNIG</td>\n",
       "      <td>HHE</td>\n",
       "      <td>2018.03.30.15.08.01</td>\n",
       "      <td>NaN</td>\n",
       "      <td>NaN</td>\n",
       "      <td>NaN</td>\n",
       "    </tr>\n",
       "    <tr>\n",
       "      <th>548</th>\n",
       "      <td>548</td>\n",
       "      <td>2018-03-30T15:07:51.000000Z</td>\n",
       "      <td>2018-03-30T15:14:01.000000Z</td>\n",
       "      <td>100.0</td>\n",
       "      <td>PNIG</td>\n",
       "      <td>HHZ</td>\n",
       "      <td>2018.03.30.15.08.01</td>\n",
       "      <td>NaN</td>\n",
       "      <td>NaN</td>\n",
       "      <td>NaN</td>\n",
       "    </tr>\n",
       "    <tr>\n",
       "      <th>678</th>\n",
       "      <td>678</td>\n",
       "      <td>2018-08-12T14:41:59.000000Z</td>\n",
       "      <td>2018-08-12T14:48:09.000000Z</td>\n",
       "      <td>100.0</td>\n",
       "      <td>PNIG</td>\n",
       "      <td>HHN</td>\n",
       "      <td>2018.08.12.14.42.09</td>\n",
       "      <td>NaN</td>\n",
       "      <td>NaN</td>\n",
       "      <td>NaN</td>\n",
       "    </tr>\n",
       "    <tr>\n",
       "      <th>709</th>\n",
       "      <td>709</td>\n",
       "      <td>2018-08-12T14:41:59.000000Z</td>\n",
       "      <td>2018-08-12T14:48:09.000000Z</td>\n",
       "      <td>100.0</td>\n",
       "      <td>PNIG</td>\n",
       "      <td>HHE</td>\n",
       "      <td>2018.08.12.14.42.09</td>\n",
       "      <td>NaN</td>\n",
       "      <td>NaN</td>\n",
       "      <td>NaN</td>\n",
       "    </tr>\n",
       "    <tr>\n",
       "      <th>710</th>\n",
       "      <td>710</td>\n",
       "      <td>2018-08-12T14:41:59.000000Z</td>\n",
       "      <td>2018-08-12T14:48:09.000000Z</td>\n",
       "      <td>100.0</td>\n",
       "      <td>PNIG</td>\n",
       "      <td>HHZ</td>\n",
       "      <td>2018.08.12.14.42.09</td>\n",
       "      <td>NaN</td>\n",
       "      <td>NaN</td>\n",
       "      <td>NaN</td>\n",
       "    </tr>\n",
       "    <tr>\n",
       "      <th>835</th>\n",
       "      <td>835</td>\n",
       "      <td>2016-06-27T20:50:25.000000Z</td>\n",
       "      <td>2016-06-27T20:56:35.000000Z</td>\n",
       "      <td>100.0</td>\n",
       "      <td>PNIG</td>\n",
       "      <td>HHN</td>\n",
       "      <td>2016.06.27.20.50.35</td>\n",
       "      <td>NaN</td>\n",
       "      <td>NaN</td>\n",
       "      <td>NaN</td>\n",
       "    </tr>\n",
       "    <tr>\n",
       "      <th>869</th>\n",
       "      <td>869</td>\n",
       "      <td>2016-06-27T20:50:25.000000Z</td>\n",
       "      <td>2016-06-27T20:56:35.000000Z</td>\n",
       "      <td>100.0</td>\n",
       "      <td>PNIG</td>\n",
       "      <td>HHE</td>\n",
       "      <td>2016.06.27.20.50.35</td>\n",
       "      <td>NaN</td>\n",
       "      <td>NaN</td>\n",
       "      <td>NaN</td>\n",
       "    </tr>\n",
       "    <tr>\n",
       "      <th>870</th>\n",
       "      <td>870</td>\n",
       "      <td>2016-06-27T20:50:25.000000Z</td>\n",
       "      <td>2016-06-27T20:56:35.000000Z</td>\n",
       "      <td>100.0</td>\n",
       "      <td>PNIG</td>\n",
       "      <td>HHZ</td>\n",
       "      <td>2016.06.27.20.50.35</td>\n",
       "      <td>NaN</td>\n",
       "      <td>NaN</td>\n",
       "      <td>NaN</td>\n",
       "    </tr>\n",
       "  </tbody>\n",
       "</table>\n",
       "</div>"
      ],
      "text/plain": [
       "     Unnamed: 0                    starttime                      endtime  \\\n",
       "60           60  2021-09-08T01:47:43.000000Z  2021-09-08T01:53:53.000000Z   \n",
       "88           88  2021-09-08T01:47:43.000000Z  2021-09-08T01:53:53.000000Z   \n",
       "89           89  2021-09-08T01:47:43.000000Z  2021-09-08T01:53:53.000000Z   \n",
       "209         209  2021-03-20T03:06:25.000000Z  2021-03-20T03:12:35.000000Z   \n",
       "238         238  2021-03-20T03:06:25.000000Z  2021-03-20T03:12:35.000000Z   \n",
       "239         239  2021-03-20T03:06:25.000000Z  2021-03-20T03:12:35.000000Z   \n",
       "354         354  2016-07-19T13:42:36.000000Z  2016-07-19T13:48:46.000000Z   \n",
       "388         388  2016-07-19T13:42:36.000000Z  2016-07-19T13:48:46.000000Z   \n",
       "389         389  2016-07-19T13:42:36.000000Z  2016-07-19T13:48:46.000000Z   \n",
       "513         513  2018-03-30T15:07:51.000000Z  2018-03-30T15:14:01.000000Z   \n",
       "547         547  2018-03-30T15:07:51.000000Z  2018-03-30T15:14:01.000000Z   \n",
       "548         548  2018-03-30T15:07:51.000000Z  2018-03-30T15:14:01.000000Z   \n",
       "678         678  2018-08-12T14:41:59.000000Z  2018-08-12T14:48:09.000000Z   \n",
       "709         709  2018-08-12T14:41:59.000000Z  2018-08-12T14:48:09.000000Z   \n",
       "710         710  2018-08-12T14:41:59.000000Z  2018-08-12T14:48:09.000000Z   \n",
       "835         835  2016-06-27T20:50:25.000000Z  2016-06-27T20:56:35.000000Z   \n",
       "869         869  2016-06-27T20:50:25.000000Z  2016-06-27T20:56:35.000000Z   \n",
       "870         870  2016-06-27T20:50:25.000000Z  2016-06-27T20:56:35.000000Z   \n",
       "\n",
       "     sampling_rate    st   ch         date_time_id  distance  azimuth  \\\n",
       "60           100.0  PNIG  HHN  2021.09.08.01.47.53       NaN      NaN   \n",
       "88           100.0  PNIG  HHE  2021.09.08.01.47.53       NaN      NaN   \n",
       "89           100.0  PNIG  HHZ  2021.09.08.01.47.53       NaN      NaN   \n",
       "209          100.0  PNIG  HHN  2021.03.20.03.06.35       NaN      NaN   \n",
       "238          100.0  PNIG  HHE  2021.03.20.03.06.35       NaN      NaN   \n",
       "239          100.0  PNIG  HHZ  2021.03.20.03.06.35       NaN      NaN   \n",
       "354          100.0  PNIG  HHN  2016.07.19.13.42.46       NaN      NaN   \n",
       "388          100.0  PNIG  HHE  2016.07.19.13.42.46       NaN      NaN   \n",
       "389          100.0  PNIG  HHZ  2016.07.19.13.42.46       NaN      NaN   \n",
       "513          100.0  PNIG  HHN  2018.03.30.15.08.01       NaN      NaN   \n",
       "547          100.0  PNIG  HHE  2018.03.30.15.08.01       NaN      NaN   \n",
       "548          100.0  PNIG  HHZ  2018.03.30.15.08.01       NaN      NaN   \n",
       "678          100.0  PNIG  HHN  2018.08.12.14.42.09       NaN      NaN   \n",
       "709          100.0  PNIG  HHE  2018.08.12.14.42.09       NaN      NaN   \n",
       "710          100.0  PNIG  HHZ  2018.08.12.14.42.09       NaN      NaN   \n",
       "835          100.0  PNIG  HHN  2016.06.27.20.50.35       NaN      NaN   \n",
       "869          100.0  PNIG  HHE  2016.06.27.20.50.35       NaN      NaN   \n",
       "870          100.0  PNIG  HHZ  2016.06.27.20.50.35       NaN      NaN   \n",
       "\n",
       "     b_azimuth  \n",
       "60         NaN  \n",
       "88         NaN  \n",
       "89         NaN  \n",
       "209        NaN  \n",
       "238        NaN  \n",
       "239        NaN  \n",
       "354        NaN  \n",
       "388        NaN  \n",
       "389        NaN  \n",
       "513        NaN  \n",
       "547        NaN  \n",
       "548        NaN  \n",
       "678        NaN  \n",
       "709        NaN  \n",
       "710        NaN  \n",
       "835        NaN  \n",
       "869        NaN  \n",
       "870        NaN  "
      ]
     },
     "execution_count": 24,
     "metadata": {},
     "output_type": "execute_result"
    }
   ],
   "source": [
    "ev_st_df.loc[ev_st_df['st'] == 'PNIG']"
   ]
  },
  {
   "cell_type": "code",
   "execution_count": 35,
   "metadata": {},
   "outputs": [],
   "source": [
    "evid_Guerrero = '2016.07.19.13.42.46'\n",
    "evid_Oaxaca = '2016.06.27.20.50.35'\n",
    "\n",
    "st = obspy.read(directorio_recortado+'2021.09.08.01.47.53'+'/RT/*')"
   ]
  },
  {
   "cell_type": "code",
   "execution_count": 36,
   "metadata": {},
   "outputs": [
    {
     "data": {
      "text/plain": [
       "48 Trace(s) in Stream:\n",
       "\n",
       "IG.AAIG..HHR | 2021-09-08T01:47:43.000000Z - 2021-09-08T01:53:53.000000Z | 100.0 Hz, 37001 samples\n",
       "...\n",
       "(46 other traces)\n",
       "...\n",
       "IG.TUIG..HHZ | 2021-09-08T01:47:43.000000Z - 2021-09-08T01:53:53.000000Z | 100.0 Hz, 37001 samples\n",
       "\n",
       "[Use \"print(Stream.__str__(extended=True))\" to print all Traces]"
      ]
     },
     "execution_count": 36,
     "metadata": {},
     "output_type": "execute_result"
    }
   ],
   "source": [
    "st"
   ]
  },
  {
   "cell_type": "code",
   "execution_count": 37,
   "metadata": {},
   "outputs": [
    {
     "data": {
      "text/plain": [
       "         network: IG\n",
       "         station: ANIG\n",
       "        location: \n",
       "         channel: HHR\n",
       "       starttime: 2021-09-08T01:47:43.000000Z\n",
       "         endtime: 2021-09-08T01:53:53.000000Z\n",
       "   sampling_rate: 100.0\n",
       "           delta: 0.01\n",
       "            npts: 37001\n",
       "           calib: 1.0\n",
       "         _format: SAC\n",
       "             sac: AttribDict({'delta': 0.0099999998, 'depmin': -0.0023472693, 'depmax': 0.0023789525, 'b': 0.0, 'e': 370.0, 'o': 0.0, 'stla': 21.053801, 'stlo': -104.5207, 'stel': 1015.0, 'evla': 17.030001, 'evlo': -99.760002, 'evdp': 21800.0, 'dist': 670.35126, 'az': 312.38562, 'baz': 130.83064, 'depmen': 1.8753261e-21, 'nzyear': 2021, 'nzjday': 251, 'nzhour': 1, 'nzmin': 47, 'nzsec': 43, 'nzmsec': 0, 'nvhdr': 6, 'npts': 37001, 'iftype': 1, 'leven': 1, 'lpspol': 0, 'lovrok': 1, 'lcalda': 1, 'kstnm': 'ANIG', 'kcmpnm': 'HHR', 'knetwk': 'IG'})"
      ]
     },
     "execution_count": 37,
     "metadata": {},
     "output_type": "execute_result"
    }
   ],
   "source": [
    "st[3].stats"
   ]
  },
  {
   "cell_type": "code",
   "execution_count": 38,
   "metadata": {},
   "outputs": [],
   "source": [
    "#print(st[0].stats.sac)"
   ]
  },
  {
   "cell_type": "code",
   "execution_count": 39,
   "metadata": {},
   "outputs": [],
   "source": [
    "#st[0].data"
   ]
  },
  {
   "cell_type": "markdown",
   "metadata": {},
   "source": [
    "Podria ser que ya vengan filtrados los datos"
   ]
  },
  {
   "cell_type": "code",
   "execution_count": 40,
   "metadata": {},
   "outputs": [],
   "source": [
    "#st[0].stats.starttime"
   ]
  },
  {
   "cell_type": "code",
   "execution_count": 41,
   "metadata": {},
   "outputs": [],
   "source": [
    "#st.plot()"
   ]
  },
  {
   "cell_type": "code",
   "execution_count": 46,
   "metadata": {},
   "outputs": [
    {
     "data": {
      "image/png": "[encoded data removed]",
      "text/plain": [
       "<Figure size 1080x720 with 3 Axes>"
      ]
     },
     "metadata": {
      "needs_background": "light"
     },
     "output_type": "display_data"
    }
   ],
   "source": [
    "freqmin = 0.02\n",
    "freqmax = 0.05\n",
    "\n",
    "# Rango de frecuencias establecido por Dahal y Ebel\n",
    "#freqmin = 1.5\n",
    "#freqmax = 2.5\n",
    "\n",
    "corners = 3\n",
    "st_filt = st.copy()\n",
    "\n",
    "st_filt.filter(\"bandpass\",freqmin=freqmin,freqmax=freqmax,corners=corners,zerophase=True)\n",
    "st_filt.taper(max_percentage=0.05)\n",
    "\n",
    "xmin = 0\n",
    "xmax = 360 # El tiempo de grabacion\n",
    "ymin = 0\n",
    "ymax = 1500\n",
    "scale = 5\n",
    "fig, axes = plt.subplots(1,3,figsize=(15,10))\n",
    "components_sub = (\"T\",\"R\",\"U\")\n",
    "components_SSN = (\"T\",\"R\",\"Z\")\n",
    "for component, ax in zip(components_SSN,axes):\n",
    "    for tr in st_filt.select(component=component):\n",
    "        times = tr.times()\n",
    "        tr.data /= max(abs(tr.data))\n",
    "        tr.data *= scale\n",
    "        ax.plot(times,tr.data+tr.stats.sac.dist,color=\"black\",linewidth=0.8)\n",
    "        ax.text(xmax,tr.stats.sac.dist,\"%s.%s\"%(tr.stats.network,tr.stats.station),va=\"bottom\",ha=\"right\")\n",
    "    ax.set_xlim(xmin,xmax)\n",
    "    ax.set_ylim(ymin,ymax)\n",
    "    ax.set_xlabel(\"Times [s]\")\n",
    "    ax.set_ylabel(\"Distance [km]\")\n",
    "    ax.set_title(\"%s: bp %.0f-%.0f seconds\"%(component,1/freqmax,1/freqmin))"
   ]
  },
  {
   "cell_type": "markdown",
   "metadata": {},
   "source": [
    "# Sección Pruebas"
   ]
  },
  {
   "cell_type": "markdown",
   "metadata": {},
   "source": [
    "## Continuar con el resto de pasos para el cálculo de mecanismos ahora que ya se ha incorporado al flujo de preprocesamiento los datos del SSN"
   ]
  },
  {
   "cell_type": "markdown",
   "metadata": {},
   "source": [
    "Problema con calculo de distancias ya que la amplitud no es consistente? "
   ]
  },
  {
   "cell_type": "markdown",
   "metadata": {},
   "source": [
    "Comparar con los sismogramas del SSN para el sismo de mayor magnitud (5.2) para averiguar diferencia o potencial pre filtrado y continuar con calculo de mecanismos focales\n",
    "\n",
    "Usar el programa compartido para descargar con los comandos compartidos en DropBox. Ver video sobre respuesta de instrumentación\n",
    "\n",
    "Hacer primero para estaciones de Tierra removiendo repuesta del instrumento\n",
    "\n",
    "Todo esto para validar el método y descubrir posible influencia de prefiltrado"
   ]
  },
  {
   "cell_type": "code",
   "execution_count": 17,
   "metadata": {},
   "outputs": [
    {
     "ename": "Exception",
     "evalue": "No file matching file pattern: Datos_SSN/*.sac",
     "output_type": "error",
     "traceback": [
      "\u001b[0;31m---------------------------------------------------------------------------\u001b[0m",
      "\u001b[0;31mException\u001b[0m                                 Traceback (most recent call last)",
      "\u001b[0;32m/tmp/ipykernel_21685/3107061335.py\u001b[0m in \u001b[0;36m<module>\u001b[0;34m\u001b[0m\n\u001b[0;32m----> 1\u001b[0;31m \u001b[0msismo_SSN\u001b[0m \u001b[0;34m=\u001b[0m \u001b[0mobspy\u001b[0m\u001b[0;34m.\u001b[0m\u001b[0mread\u001b[0m\u001b[0;34m(\u001b[0m\u001b[0;34m'Datos_SSN/*.sac'\u001b[0m\u001b[0;34m)\u001b[0m\u001b[0;34m\u001b[0m\u001b[0;34m\u001b[0m\u001b[0m\n\u001b[0m",
      "\u001b[0;32m~/anaconda3/envs/mecanismos_focales/lib/python3.8/site-packages/decorator.py\u001b[0m in \u001b[0;36mfun\u001b[0;34m(*args, **kw)\u001b[0m\n\u001b[1;32m    230\u001b[0m             \u001b[0;32mif\u001b[0m \u001b[0;32mnot\u001b[0m \u001b[0mkwsyntax\u001b[0m\u001b[0;34m:\u001b[0m\u001b[0;34m\u001b[0m\u001b[0;34m\u001b[0m\u001b[0m\n\u001b[1;32m    231\u001b[0m                 \u001b[0margs\u001b[0m\u001b[0;34m,\u001b[0m \u001b[0mkw\u001b[0m \u001b[0;34m=\u001b[0m \u001b[0mfix\u001b[0m\u001b[0;34m(\u001b[0m\u001b[0margs\u001b[0m\u001b[0;34m,\u001b[0m \u001b[0mkw\u001b[0m\u001b[0;34m,\u001b[0m \u001b[0msig\u001b[0m\u001b[0;34m)\u001b[0m\u001b[0;34m\u001b[0m\u001b[0;34m\u001b[0m\u001b[0m\n\u001b[0;32m--> 232\u001b[0;31m             \u001b[0;32mreturn\u001b[0m \u001b[0mcaller\u001b[0m\u001b[0;34m(\u001b[0m\u001b[0mfunc\u001b[0m\u001b[0;34m,\u001b[0m \u001b[0;34m*\u001b[0m\u001b[0;34m(\u001b[0m\u001b[0mextras\u001b[0m \u001b[0;34m+\u001b[0m \u001b[0margs\u001b[0m\u001b[0;34m)\u001b[0m\u001b[0;34m,\u001b[0m \u001b[0;34m**\u001b[0m\u001b[0mkw\u001b[0m\u001b[0;34m)\u001b[0m\u001b[0;34m\u001b[0m\u001b[0;34m\u001b[0m\u001b[0m\n\u001b[0m\u001b[1;32m    233\u001b[0m     \u001b[0mfun\u001b[0m\u001b[0;34m.\u001b[0m\u001b[0m__name__\u001b[0m \u001b[0;34m=\u001b[0m \u001b[0mfunc\u001b[0m\u001b[0;34m.\u001b[0m\u001b[0m__name__\u001b[0m\u001b[0;34m\u001b[0m\u001b[0;34m\u001b[0m\u001b[0m\n\u001b[1;32m    234\u001b[0m     \u001b[0mfun\u001b[0m\u001b[0;34m.\u001b[0m\u001b[0m__doc__\u001b[0m \u001b[0;34m=\u001b[0m \u001b[0mfunc\u001b[0m\u001b[0;34m.\u001b[0m\u001b[0m__doc__\u001b[0m\u001b[0;34m\u001b[0m\u001b[0;34m\u001b[0m\u001b[0m\n",
      "\u001b[0;32m~/anaconda3/envs/mecanismos_focales/lib/python3.8/site-packages/obspy/core/util/decorator.py\u001b[0m in \u001b[0;36m_map_example_filename\u001b[0;34m(func, *args, **kwargs)\u001b[0m\n\u001b[1;32m    298\u001b[0m                         \u001b[0;32mexcept\u001b[0m \u001b[0mIOError\u001b[0m\u001b[0;34m:\u001b[0m\u001b[0;34m\u001b[0m\u001b[0;34m\u001b[0m\u001b[0m\n\u001b[1;32m    299\u001b[0m                             \u001b[0;32mpass\u001b[0m\u001b[0;34m\u001b[0m\u001b[0;34m\u001b[0m\u001b[0m\n\u001b[0;32m--> 300\u001b[0;31m         \u001b[0;32mreturn\u001b[0m \u001b[0mfunc\u001b[0m\u001b[0;34m(\u001b[0m\u001b[0;34m*\u001b[0m\u001b[0margs\u001b[0m\u001b[0;34m,\u001b[0m \u001b[0;34m**\u001b[0m\u001b[0mkwargs\u001b[0m\u001b[0;34m)\u001b[0m\u001b[0;34m\u001b[0m\u001b[0;34m\u001b[0m\u001b[0m\n\u001b[0m\u001b[1;32m    301\u001b[0m     \u001b[0;32mreturn\u001b[0m \u001b[0m_map_example_filename\u001b[0m\u001b[0;34m\u001b[0m\u001b[0;34m\u001b[0m\u001b[0m\n\u001b[1;32m    302\u001b[0m \u001b[0;34m\u001b[0m\u001b[0m\n",
      "\u001b[0;32m~/anaconda3/envs/mecanismos_focales/lib/python3.8/site-packages/obspy/core/stream.py\u001b[0m in \u001b[0;36mread\u001b[0;34m(pathname_or_url, format, headonly, starttime, endtime, nearest_sample, dtype, apply_calib, check_compression, **kwargs)\u001b[0m\n\u001b[1;32m    210\u001b[0m         \u001b[0mst\u001b[0m \u001b[0;34m=\u001b[0m \u001b[0m_create_example_stream\u001b[0m\u001b[0;34m(\u001b[0m\u001b[0mheadonly\u001b[0m\u001b[0;34m=\u001b[0m\u001b[0mheadonly\u001b[0m\u001b[0;34m)\u001b[0m\u001b[0;34m\u001b[0m\u001b[0;34m\u001b[0m\u001b[0m\n\u001b[1;32m    211\u001b[0m     \u001b[0;32melse\u001b[0m\u001b[0;34m:\u001b[0m\u001b[0;34m\u001b[0m\u001b[0;34m\u001b[0m\u001b[0m\n\u001b[0;32m--> 212\u001b[0;31m         \u001b[0mst\u001b[0m \u001b[0;34m=\u001b[0m \u001b[0m_generic_reader\u001b[0m\u001b[0;34m(\u001b[0m\u001b[0mpathname_or_url\u001b[0m\u001b[0;34m,\u001b[0m \u001b[0m_read\u001b[0m\u001b[0;34m,\u001b[0m \u001b[0;34m**\u001b[0m\u001b[0mkwargs\u001b[0m\u001b[0;34m)\u001b[0m\u001b[0;34m\u001b[0m\u001b[0;34m\u001b[0m\u001b[0m\n\u001b[0m\u001b[1;32m    213\u001b[0m \u001b[0;34m\u001b[0m\u001b[0m\n\u001b[1;32m    214\u001b[0m     \u001b[0;32mif\u001b[0m \u001b[0mlen\u001b[0m\u001b[0;34m(\u001b[0m\u001b[0mst\u001b[0m\u001b[0;34m)\u001b[0m \u001b[0;34m==\u001b[0m \u001b[0;36m0\u001b[0m\u001b[0;34m:\u001b[0m\u001b[0;34m\u001b[0m\u001b[0;34m\u001b[0m\u001b[0m\n",
      "\u001b[0;32m~/anaconda3/envs/mecanismos_focales/lib/python3.8/site-packages/obspy/core/util/base.py\u001b[0m in \u001b[0;36m_generic_reader\u001b[0;34m(pathname_or_url, callback_func, **kwargs)\u001b[0m\n\u001b[1;32m    696\u001b[0m             \u001b[0;31m# try to give more specific information why the stream is empty\u001b[0m\u001b[0;34m\u001b[0m\u001b[0;34m\u001b[0m\u001b[0;34m\u001b[0m\u001b[0m\n\u001b[1;32m    697\u001b[0m             \u001b[0;32mif\u001b[0m \u001b[0mglob\u001b[0m\u001b[0;34m.\u001b[0m\u001b[0mhas_magic\u001b[0m\u001b[0;34m(\u001b[0m\u001b[0mpathname\u001b[0m\u001b[0;34m)\u001b[0m \u001b[0;32mand\u001b[0m \u001b[0;32mnot\u001b[0m \u001b[0mglob\u001b[0m\u001b[0;34m.\u001b[0m\u001b[0mglob\u001b[0m\u001b[0;34m(\u001b[0m\u001b[0mpathname\u001b[0m\u001b[0;34m)\u001b[0m\u001b[0;34m:\u001b[0m\u001b[0;34m\u001b[0m\u001b[0;34m\u001b[0m\u001b[0m\n\u001b[0;32m--> 698\u001b[0;31m                 \u001b[0;32mraise\u001b[0m \u001b[0mException\u001b[0m\u001b[0;34m(\u001b[0m\u001b[0;34m\"No file matching file pattern: %s\"\u001b[0m \u001b[0;34m%\u001b[0m \u001b[0mpathname\u001b[0m\u001b[0;34m)\u001b[0m\u001b[0;34m\u001b[0m\u001b[0;34m\u001b[0m\u001b[0m\n\u001b[0m\u001b[1;32m    699\u001b[0m             \u001b[0;32melif\u001b[0m \u001b[0;32mnot\u001b[0m \u001b[0mglob\u001b[0m\u001b[0;34m.\u001b[0m\u001b[0mhas_magic\u001b[0m\u001b[0;34m(\u001b[0m\u001b[0mpathname\u001b[0m\u001b[0;34m)\u001b[0m \u001b[0;32mand\u001b[0m \u001b[0;32mnot\u001b[0m \u001b[0mos\u001b[0m\u001b[0;34m.\u001b[0m\u001b[0mpath\u001b[0m\u001b[0;34m.\u001b[0m\u001b[0misfile\u001b[0m\u001b[0;34m(\u001b[0m\u001b[0mpathname\u001b[0m\u001b[0;34m)\u001b[0m\u001b[0;34m:\u001b[0m\u001b[0;34m\u001b[0m\u001b[0;34m\u001b[0m\u001b[0m\n\u001b[1;32m    700\u001b[0m                 \u001b[0;32mraise\u001b[0m \u001b[0mIOError\u001b[0m\u001b[0;34m(\u001b[0m\u001b[0;36m2\u001b[0m\u001b[0;34m,\u001b[0m \u001b[0;34m\"No such file or directory\"\u001b[0m\u001b[0;34m,\u001b[0m \u001b[0mpathname\u001b[0m\u001b[0;34m)\u001b[0m\u001b[0;34m\u001b[0m\u001b[0;34m\u001b[0m\u001b[0m\n",
      "\u001b[0;31mException\u001b[0m: No file matching file pattern: Datos_SSN/*.sac"
     ]
    }
   ],
   "source": [
    "sismo_SSN = obspy.read('Datos_SSN/*.sac')"
   ]
  },
  {
   "cell_type": "code",
   "execution_count": null,
   "metadata": {},
   "outputs": [],
   "source": [
    "sismo_SSN[0].stats"
   ]
  },
  {
   "cell_type": "markdown",
   "metadata": {},
   "source": [
    "Como estas estaciones no están orientadas en componentes N, E y U, sería necesario obtener el inventario de estaciones para poder usar las funcionees de Obspy para la rotación a los componentes R, T y U.\n",
    "\n",
    "Pero en cuanto a quitar la respuesta del instrumento, quizá no sea necesario el inventario, simplemente se tratará de una serie de filtrados de frecuencia de acuerdo a los registros de variación de amplitud respecto a la frecuencia. Se quiere usar el rango de frecuencias que muestre una tendencia de amplitud lo más horizontal posible para cada estación. En la carpeta de respuestas para las estaciones del SSN a trabajar, los archivos tienen en su nombre un año que indica en qué momento dejó de usarse el sensor, así que solo debe usarse la primera respuesta que indique una fecha posterior a 2018, ya que estos habrán estado en uso durante el tiempo de estudio de este sismo de mayor magnitud. Fechas posteriores a la primera respuesta posterior a 2018 no registraron la señal del sismo de interés ya que fueron usados años más tarde\n",
    "\n",
    "Una vez que se tenga filtrada la señal, simplemente se tendrá que multiplicar por el factor de amplitud registrado en la respuesta para obtener el verdadero efecto del suelo."
   ]
  },
  {
   "cell_type": "markdown",
   "metadata": {},
   "source": [
    "MGIG y CAIG no pudieron descargarse para el sismo de mayor magnitud con ninguno de los comandos:\n",
    "\n",
    "WIN IG MGIG HH_ 2018/08/12,14:42:09 +300s\n",
    "\n",
    "WIN IG MGIG % 2018/08/12,14:42:09 +300s\n",
    "\n",
    "WIN IG CAIG HH_ 2018/08/12,14:42:09 +300s\n",
    "\n",
    "WIN IG CAIG % 2018/08/12,14:42:09 +300s\n",
    "\n",
    "Además, Obspy sí tiene una forma para quitar la respuesta del instrumento en base a archivos .RESP que se leen igual que un inventario de estaciones:\n",
    "\n",
    "pre_filt = [0.01, 0.05, 8, 10]\n",
    "\n",
    "inv = obspy.read_inventory('./OXIG.RESP')\n",
    "\n",
    "sismo.remove_response(inventory=inv, output=\"DISP\",zero_mean=True, plot=True, taper=True)"
   ]
  },
  {
   "cell_type": "code",
   "execution_count": null,
   "metadata": {},
   "outputs": [],
   "source": [
    "stations = ['CRIG', 'DAIG', 'MEIG', 'TLIG']\n",
    "datetime = '20180812144209'\n",
    "net = 'IG'"
   ]
  },
  {
   "cell_type": "code",
   "execution_count": null,
   "metadata": {},
   "outputs": [],
   "source": [
    "sismos = {}\n",
    "for sta in stations:\n",
    "    sismos[sta] = obspy.read('Datos_SSN/%s.%s.%s.*'%(datetime, net, sta))"
   ]
  },
  {
   "cell_type": "code",
   "execution_count": null,
   "metadata": {},
   "outputs": [],
   "source": [
    "sismos['CRIG'].plot()\n",
    "plt.show()"
   ]
  },
  {
   "cell_type": "code",
   "execution_count": null,
   "metadata": {},
   "outputs": [],
   "source": [
    "sta = 'DAIG'\n",
    "directorio = 'Respuesta_Instrumento/'\n",
    "for file in os.listdir(directorio):\n",
    "    if re.match('%s_%s_\\d+_2100.*\\.RESP'%(sta, net), file): # Para que solo lea las respuestas de instrumentos actuales\n",
    "        with open(directorio+file) as f:\n",
    "            inv = obspy.read_inventory(f)\n",
    "            \n",
    "sismos[sta].remove_response(inventory=inv, output=\"DISP\",zero_mean=True, plot=True, taper=True)\n",
    "sismos[sta].plot()\n",
    "plt.show()"
   ]
  },
  {
   "cell_type": "markdown",
   "metadata": {},
   "source": [
    "Estas respuestas parecen estar bien, pero comparar aún así con SAC por curiosidad\n",
    "\n",
    "Y finalmente, incorporar ahora sí estos datos al resto del código para rotar y continuar con el resto del proceso para el cálculo de mecanismos focales"
   ]
  },
  {
   "cell_type": "code",
   "execution_count": null,
   "metadata": {},
   "outputs": [],
   "source": []
  },
  {
   "cell_type": "code",
   "execution_count": null,
   "metadata": {},
   "outputs": [],
   "source": []
  },
  {
   "cell_type": "code",
   "execution_count": null,
   "metadata": {},
   "outputs": [],
   "source": []
  },
  {
   "cell_type": "code",
   "execution_count": null,
   "metadata": {},
   "outputs": [],
   "source": []
  },
  {
   "cell_type": "code",
   "execution_count": null,
   "metadata": {},
   "outputs": [],
   "source": []
  },
  {
   "cell_type": "code",
   "execution_count": null,
   "metadata": {},
   "outputs": [],
   "source": []
  },
  {
   "cell_type": "code",
   "execution_count": null,
   "metadata": {},
   "outputs": [],
   "source": []
  },
  {
   "cell_type": "code",
   "execution_count": null,
   "metadata": {},
   "outputs": [],
   "source": []
  }
 ],
 "metadata": {
  "jupytext": {
   "formats": "ipynb,py:light",
   "text_representation": {
    "extension": ".py",
    "format_name": "light",
    "format_version": "1.5",
    "jupytext_version": "1.5.2"
   }
  },
  "kernelspec": {
   "display_name": "mecanismos_focales",
   "language": "python",
   "name": "mecanismos_focales"
  },
  "language_info": {
   "codemirror_mode": {
    "name": "ipython",
    "version": 3
   },
   "file_extension": ".py",
   "mimetype": "text/x-python",
   "name": "python",
   "nbconvert_exporter": "python",
   "pygments_lexer": "ipython3",
   "version": "3.8.12"
  }
 },
 "nbformat": 4,
 "nbformat_minor": 4
}
